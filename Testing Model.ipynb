{
 "cells": [
  {
   "cell_type": "code",
   "execution_count": 1,
   "id": "cultural-haiti",
   "metadata": {},
   "outputs": [],
   "source": [
    "import numpy as np\n",
    "import pandas as pd\n",
    "import tensorflow as tf\n",
    "from tensorflow import keras\n",
    "from tensorflow.keras import layers\n",
    "from tensorflow.keras.layers import Embedding\n",
    "from tensorflow.keras.preprocessing.sequence import pad_sequences\n",
    "from tensorflow.keras.models import Sequential\n",
    "from tensorflow.keras.preprocessing.text import one_hot\n",
    "from tensorflow.keras.layers import LSTM\n",
    "from tensorflow.keras.layers import Dense,Conv1D,MaxPooling1D,Add,GlobalMaxPooling1D\n",
    "from tensorflow.keras.callbacks import ModelCheckpoint\n",
    "from pathlib import Path\n",
    "import shutil, os\n",
    "import glob\n",
    "from sklearn.model_selection import train_test_split\n",
    "tweet_path='./data/preprocessed_tweet.csv'\n",
    "train_path = './data/train.csv'\n",
    "test_path = './data/test.csv'"
   ]
  },
  {
   "cell_type": "code",
   "execution_count": 2,
   "id": "painted-disaster",
   "metadata": {},
   "outputs": [],
   "source": [
    "training_data = pd.read_csv(train_path)\n",
    "testing_data = pd.read_csv(test_path)"
   ]
  },
  {
   "cell_type": "code",
   "execution_count": 3,
   "id": "tight-belarus",
   "metadata": {},
   "outputs": [
    {
     "data": {
      "text/plain": [
       "19168"
      ]
     },
     "execution_count": 3,
     "metadata": {},
     "output_type": "execute_result"
    }
   ],
   "source": [
    "len(training_data )+len(testing_data )"
   ]
  },
  {
   "cell_type": "code",
   "execution_count": 4,
   "id": "given-warning",
   "metadata": {},
   "outputs": [
    {
     "data": {
      "text/plain": [
       "1917"
      ]
     },
     "execution_count": 4,
     "metadata": {},
     "output_type": "execute_result"
    }
   ],
   "source": [
    "len(testing_data )"
   ]
  },
  {
   "cell_type": "code",
   "execution_count": 5,
   "id": "outer-republic",
   "metadata": {},
   "outputs": [],
   "source": [
    "hate,non_hate = training_data[training_data['label'] == 'negative' ].reset_index(drop=True) ,training_data[training_data['label'] != 'negative' ].reset_index(drop=True)"
   ]
  },
  {
   "cell_type": "code",
   "execution_count": 6,
   "id": "least-compact",
   "metadata": {},
   "outputs": [],
   "source": [
    "vocab_size = 256\n",
    "sent_length=256"
   ]
  },
  {
   "cell_type": "code",
   "execution_count": 7,
   "id": "interior-request",
   "metadata": {},
   "outputs": [],
   "source": [
    "hate['one_hot'] = hate.apply(lambda row:one_hot(row.text  ,vocab_size) , axis = 1)\n",
    "non_hate['one_hot'] = non_hate.apply(lambda row:one_hot(row.text  ,vocab_size) , axis = 1)\n",
    "hate['one_hot']=list(pad_sequences(hate['one_hot'],padding='pre',maxlen=sent_length))\n",
    "non_hate['one_hot']=list(pad_sequences(non_hate['one_hot'],padding='pre',maxlen=sent_length))"
   ]
  },
  {
   "cell_type": "code",
   "execution_count": 8,
   "id": "forty-finnish",
   "metadata": {},
   "outputs": [],
   "source": [
    "def my_func(arg):\n",
    "  arg = tf.convert_to_tensor(arg, dtype=tf.float32)\n",
    "  return arg"
   ]
  },
  {
   "cell_type": "code",
   "execution_count": 9,
   "id": "impressed-minnesota",
   "metadata": {},
   "outputs": [],
   "source": [
    "non_hate_val,non_hate_train = my_func(list(non_hate['one_hot'][:3000])) , my_func(list(non_hate['one_hot'][3000:]))"
   ]
  },
  {
   "cell_type": "code",
   "execution_count": 10,
   "id": "comfortable-ordering",
   "metadata": {},
   "outputs": [],
   "source": [
    "def generateModel(small_model,n):\n",
    "    '''\n",
    "    Utility function to generate a sample model for testing seprate network\n",
    "    Input :- Fuction to generate seprate small network\n",
    "    Output:- Sample model to test the data\n",
    "    '''\n",
    "    input_layer = keras.Input(shape=(None,),name=\"Input_Sentence\")\n",
    "    input_embeddings = layers.Embedding(vocab_size,64)(input_layer)\n",
    "    x = small_model(input_embeddings)\n",
    "    x = layers.Dense(64, activation=\"relu\")(x)\n",
    "    x = layers.Dense(128, activation=\"relu\")(x)\n",
    "\n",
    "    output = layers.Dense(256, activation=\"relu\")(x)\n",
    "    \n",
    "    model = keras.Model(input_layer, output, name=n)\n",
    "    model.compile(optimizer='adam',loss='mse',metrics=[tf.keras.metrics.RootMeanSquaredError()])\n",
    "    model.summary()\n",
    "    return model"
   ]
  },
  {
   "cell_type": "code",
   "execution_count": 11,
   "id": "governmental-isaac",
   "metadata": {},
   "outputs": [],
   "source": [
    "def inseptionNetwork(input_embeddings):\n",
    "    '''\n",
    "    2-layer inseption network generator function\n",
    "    Input : Model till input embedding layer\n",
    "    Output: Generated model till inseption network\n",
    "    '''\n",
    "    \n",
    "    x1f = layers.Conv1D(8, 1, activation=\"relu\", padding = \"same\")(input_embeddings)\n",
    "    x2f = layers.Conv1D(16, 2, activation=\"relu\", padding = \"same\")(input_embeddings)\n",
    "    x3f = layers.Conv1D(32, 3, activation=\"relu\", padding = \"same\")(input_embeddings)\n",
    "    x4f = layers.Conv1D(64, 4, activation=\"relu\", padding = \"same\")(input_embeddings)\n",
    "    x5f = layers.Conv1D(64, 5, activation=\"relu\", padding = \"same\")(input_embeddings)\n",
    "    \n",
    "    y = layers.concatenate([x1f,x2f,x3f,x4f,x5f])\n",
    "    x1f = layers.Conv1D(8, 1, activation=\"relu\", padding = \"same\")(y)\n",
    "    x2f = layers.Conv1D(16, 2, activation=\"relu\", padding = \"same\")(y)\n",
    "    x3f = layers.Conv1D(32, 3, activation=\"relu\", padding = \"same\")(y)\n",
    "    x4f = layers.Conv1D(64, 4, activation=\"relu\", padding = \"same\")(y)\n",
    "    x5f = layers.Conv1D(64, 5, activation=\"relu\", padding = \"same\")(y)\n",
    "    y = layers.concatenate([x1f,x2f,x3f,x4f,x5f])\n",
    "    \n",
    "    y = layers.MaxPooling1D()(y)\n",
    "    \n",
    "    x1f = layers.Conv1D(8, 1, activation=\"relu\", padding = \"same\")(y)\n",
    "    x2f = layers.Conv1D(16, 2, activation=\"relu\", padding = \"same\")(y)\n",
    "    x3f = layers.Conv1D(32, 3, activation=\"relu\", padding = \"same\")(y)\n",
    "    x4f = layers.Conv1D(64, 4, activation=\"relu\", padding = \"same\")(y)\n",
    "    x5f = layers.Conv1D(64, 5, activation=\"relu\", padding = \"same\")(y)\n",
    "    y = layers.concatenate([x1f,x2f,x3f,x4f,x5f])\n",
    "\n",
    "    x1f = layers.Conv1D(8, 1, activation=\"relu\", padding = \"same\")(y)\n",
    "    x2f = layers.Conv1D(16, 2, activation=\"relu\", padding = \"same\")(y)\n",
    "    x3f = layers.Conv1D(32, 3, activation=\"relu\", padding = \"same\")(y)\n",
    "    x4f = layers.Conv1D(64, 4, activation=\"relu\", padding = \"same\")(y)\n",
    "    x5f = layers.Conv1D(64, 5, activation=\"relu\", padding = \"same\")(y)\n",
    "    y = layers.concatenate([x1f,x2f,x3f,x4f,x5f])\n",
    "    \n",
    "    y = layers.GlobalMaxPooling1D()(y)\n",
    "    \n",
    "    return y"
   ]
  },
  {
   "cell_type": "code",
   "execution_count": 12,
   "id": "turkish-chorus",
   "metadata": {},
   "outputs": [],
   "source": [
    "def resNet(input_embedding):\n",
    "    x = layers.Conv1D(32, 3, activation=\"relu\")(input_embedding)\n",
    "    x = layers.Conv1D(64, 3, activation=\"relu\")(x)\n",
    "    block_1_output = layers.MaxPooling1D(3)(x)\n",
    "\n",
    "    x = layers.Conv1D(32, 3, activation=\"relu\", padding=\"same\")(block_1_output)\n",
    "    x = layers.Conv1D(64, 3, activation=\"relu\", padding=\"same\")(x)\n",
    "    block_2_output = layers.add([x, block_1_output])\n",
    "\n",
    "    x = layers.Conv1D(32, 3, activation=\"relu\", padding=\"same\")(block_2_output)\n",
    "    x = layers.Conv1D(64, 3, activation=\"relu\", padding=\"same\")(x)\n",
    "    block_3_output = layers.add([x, block_2_output])\n",
    "\n",
    "    x = layers.Conv1D(64, 3, activation=\"relu\")(block_3_output)\n",
    "    x = layers.GlobalMaxPooling1D()(x)\n",
    "    return x"
   ]
  },
  {
   "cell_type": "code",
   "execution_count": 13,
   "id": "reflected-attitude",
   "metadata": {},
   "outputs": [],
   "source": [
    "def LSTMnetwork(input_embeddings):\n",
    "    x = layers.Bidirectional(layers.LSTM(256, return_sequences=True))(input_embeddings)\n",
    "    x = layers.Bidirectional(layers.LSTM(64, return_sequences=True))(x)\n",
    "    x = layers.Bidirectional(layers.LSTM(32))(x)\n",
    "    \n",
    "    return x"
   ]
  },
  {
   "cell_type": "code",
   "execution_count": 14,
   "id": "optimum-container",
   "metadata": {},
   "outputs": [],
   "source": [
    "def genall3(input_embeddings):\n",
    "    gnet = inseptionNetwork2Layer(input_embeddings)\n",
    "    resnet = resNet(input_embeddings)\n",
    "    lstm = LSTMnetwork(input_embeddings)\n",
    "    y = layers.concatenate([gnet,resnet,lstm])\n",
    "    return y"
   ]
  },
  {
   "cell_type": "code",
   "execution_count": 15,
   "id": "spread-commissioner",
   "metadata": {},
   "outputs": [],
   "source": [
    "def gnet_lstm_v2(input_embeddings):\n",
    "    gnet = inseptionNetwork(input_embeddings)\n",
    "    lstm = LSTMnetwork(input_embeddings)\n",
    "    y = layers.concatenate([gnet,lstm])\n",
    "    return y"
   ]
  },
  {
   "cell_type": "code",
   "execution_count": 16,
   "id": "small-browser",
   "metadata": {},
   "outputs": [],
   "source": [
    "def resnet_lstm(input_embeddings):\n",
    "    resnet = resNet(input_embeddings)\n",
    "    lstm = LSTMnetwork(input_embeddings)\n",
    "    y = layers.concatenate([resnet,lstm])\n",
    "    return y"
   ]
  },
  {
   "cell_type": "code",
   "execution_count": 17,
   "id": "rapid-water",
   "metadata": {},
   "outputs": [],
   "source": [
    "def prediction(model,path):\n",
    "    model.load_weights(path)\n",
    "    pred_non_hate = model.predict(non_hate_train)\n",
    "    pred_hate = model.predict(my_func(list(hate['one_hot'])))\n",
    "    return pred_non_hate,pred_hate"
   ]
  },
  {
   "cell_type": "code",
   "execution_count": 18,
   "id": "responsible-allowance",
   "metadata": {},
   "outputs": [
    {
     "name": "stdout",
     "output_type": "stream",
     "text": [
      "Model: \"mini-google-net\"\n",
      "__________________________________________________________________________________________________\n",
      "Layer (type)                    Output Shape         Param #     Connected to                     \n",
      "==================================================================================================\n",
      "Input_Sentence (InputLayer)     [(None, None)]       0                                            \n",
      "__________________________________________________________________________________________________\n",
      "embedding (Embedding)           (None, None, 64)     16384       Input_Sentence[0][0]             \n",
      "__________________________________________________________________________________________________\n",
      "conv1d (Conv1D)                 (None, None, 8)      520         embedding[0][0]                  \n",
      "__________________________________________________________________________________________________\n",
      "conv1d_1 (Conv1D)               (None, None, 16)     2064        embedding[0][0]                  \n",
      "__________________________________________________________________________________________________\n",
      "conv1d_2 (Conv1D)               (None, None, 32)     6176        embedding[0][0]                  \n",
      "__________________________________________________________________________________________________\n",
      "conv1d_3 (Conv1D)               (None, None, 64)     16448       embedding[0][0]                  \n",
      "__________________________________________________________________________________________________\n",
      "conv1d_4 (Conv1D)               (None, None, 64)     20544       embedding[0][0]                  \n",
      "__________________________________________________________________________________________________\n",
      "concatenate (Concatenate)       (None, None, 184)    0           conv1d[0][0]                     \n",
      "                                                                 conv1d_1[0][0]                   \n",
      "                                                                 conv1d_2[0][0]                   \n",
      "                                                                 conv1d_3[0][0]                   \n",
      "                                                                 conv1d_4[0][0]                   \n",
      "__________________________________________________________________________________________________\n",
      "conv1d_5 (Conv1D)               (None, None, 8)      1480        concatenate[0][0]                \n",
      "__________________________________________________________________________________________________\n",
      "conv1d_6 (Conv1D)               (None, None, 16)     5904        concatenate[0][0]                \n",
      "__________________________________________________________________________________________________\n",
      "conv1d_7 (Conv1D)               (None, None, 32)     17696       concatenate[0][0]                \n",
      "__________________________________________________________________________________________________\n",
      "conv1d_8 (Conv1D)               (None, None, 64)     47168       concatenate[0][0]                \n",
      "__________________________________________________________________________________________________\n",
      "conv1d_9 (Conv1D)               (None, None, 64)     58944       concatenate[0][0]                \n",
      "__________________________________________________________________________________________________\n",
      "concatenate_1 (Concatenate)     (None, None, 184)    0           conv1d_5[0][0]                   \n",
      "                                                                 conv1d_6[0][0]                   \n",
      "                                                                 conv1d_7[0][0]                   \n",
      "                                                                 conv1d_8[0][0]                   \n",
      "                                                                 conv1d_9[0][0]                   \n",
      "__________________________________________________________________________________________________\n",
      "max_pooling1d (MaxPooling1D)    (None, None, 184)    0           concatenate_1[0][0]              \n",
      "__________________________________________________________________________________________________\n",
      "conv1d_10 (Conv1D)              (None, None, 8)      1480        max_pooling1d[0][0]              \n",
      "__________________________________________________________________________________________________\n",
      "conv1d_11 (Conv1D)              (None, None, 16)     5904        max_pooling1d[0][0]              \n",
      "__________________________________________________________________________________________________\n",
      "conv1d_12 (Conv1D)              (None, None, 32)     17696       max_pooling1d[0][0]              \n",
      "__________________________________________________________________________________________________\n",
      "conv1d_13 (Conv1D)              (None, None, 64)     47168       max_pooling1d[0][0]              \n",
      "__________________________________________________________________________________________________\n",
      "conv1d_14 (Conv1D)              (None, None, 64)     58944       max_pooling1d[0][0]              \n",
      "__________________________________________________________________________________________________\n",
      "concatenate_2 (Concatenate)     (None, None, 184)    0           conv1d_10[0][0]                  \n",
      "                                                                 conv1d_11[0][0]                  \n",
      "                                                                 conv1d_12[0][0]                  \n",
      "                                                                 conv1d_13[0][0]                  \n",
      "                                                                 conv1d_14[0][0]                  \n",
      "__________________________________________________________________________________________________\n",
      "conv1d_15 (Conv1D)              (None, None, 8)      1480        concatenate_2[0][0]              \n",
      "__________________________________________________________________________________________________\n",
      "conv1d_16 (Conv1D)              (None, None, 16)     5904        concatenate_2[0][0]              \n",
      "__________________________________________________________________________________________________\n",
      "conv1d_17 (Conv1D)              (None, None, 32)     17696       concatenate_2[0][0]              \n",
      "__________________________________________________________________________________________________\n",
      "conv1d_18 (Conv1D)              (None, None, 64)     47168       concatenate_2[0][0]              \n",
      "__________________________________________________________________________________________________\n",
      "conv1d_19 (Conv1D)              (None, None, 64)     58944       concatenate_2[0][0]              \n",
      "__________________________________________________________________________________________________\n",
      "concatenate_3 (Concatenate)     (None, None, 184)    0           conv1d_15[0][0]                  \n",
      "                                                                 conv1d_16[0][0]                  \n",
      "                                                                 conv1d_17[0][0]                  \n",
      "                                                                 conv1d_18[0][0]                  \n",
      "                                                                 conv1d_19[0][0]                  \n",
      "__________________________________________________________________________________________________\n",
      "global_max_pooling1d (GlobalMax (None, 184)          0           concatenate_3[0][0]              \n",
      "__________________________________________________________________________________________________\n",
      "dense (Dense)                   (None, 64)           11840       global_max_pooling1d[0][0]       \n",
      "__________________________________________________________________________________________________\n",
      "dense_1 (Dense)                 (None, 128)          8320        dense[0][0]                      \n",
      "__________________________________________________________________________________________________\n",
      "dense_2 (Dense)                 (None, 256)          33024       dense_1[0][0]                    \n",
      "==================================================================================================\n",
      "Total params: 508,896\n",
      "Trainable params: 508,896\n",
      "Non-trainable params: 0\n",
      "__________________________________________________________________________________________________\n"
     ]
    }
   ],
   "source": [
    "mini_google_model = generateModel(inseptionNetwork,'mini-google-net')   \n",
    "path = './models/mini-google-model/checkpoint_epoch-18_rms-14.90.h5'"
   ]
  },
  {
   "cell_type": "code",
   "execution_count": 19,
   "id": "practical-desire",
   "metadata": {},
   "outputs": [],
   "source": [
    "pred_non_hate,pred_hate = prediction(mini_google_model,path)"
   ]
  },
  {
   "cell_type": "code",
   "execution_count": 20,
   "id": "elementary-architecture",
   "metadata": {},
   "outputs": [
    {
     "data": {
      "text/plain": [
       "(3949, 256)"
      ]
     },
     "execution_count": 20,
     "metadata": {},
     "output_type": "execute_result"
    }
   ],
   "source": [
    "pred_hate.shape"
   ]
  },
  {
   "cell_type": "code",
   "execution_count": 21,
   "id": "excited-toddler",
   "metadata": {},
   "outputs": [],
   "source": [
    "hate_val = my_func(list(hate['one_hot']))"
   ]
  },
  {
   "cell_type": "code",
   "execution_count": 22,
   "id": "reported-trinity",
   "metadata": {},
   "outputs": [
    {
     "data": {
      "text/plain": [
       "TensorShape([256])"
      ]
     },
     "execution_count": 22,
     "metadata": {},
     "output_type": "execute_result"
    }
   ],
   "source": [
    "hate_val[0].shape"
   ]
  },
  {
   "cell_type": "code",
   "execution_count": 23,
   "id": "constitutional-arkansas",
   "metadata": {},
   "outputs": [],
   "source": [
    "non_hate_rmse =[]\n",
    "for i in range(len(non_hate_val)):\n",
    "    diff_sq = np.sum((pred_non_hate[i]-non_hate_train[i])**2)\n",
    "    non_hate_rmse.append((diff_sq**.5) / 256)"
   ]
  },
  {
   "cell_type": "code",
   "execution_count": null,
   "id": "supposed-midnight",
   "metadata": {},
   "outputs": [],
   "source": []
  },
  {
   "cell_type": "code",
   "execution_count": 24,
   "id": "voluntary-worcester",
   "metadata": {},
   "outputs": [],
   "source": [
    "hate_rmse =[]\n",
    "for i in range(len(non_hate_val)):\n",
    "    diff_sq = np.sum((pred_hate[i]-hate_val[i])**2)\n",
    "    hate_rmse.append((diff_sq**.5) / 256)"
   ]
  },
  {
   "cell_type": "code",
   "execution_count": 25,
   "id": "worth-reproduction",
   "metadata": {},
   "outputs": [
    {
     "data": {
      "text/plain": [
       "0.751212892671235"
      ]
     },
     "execution_count": 25,
     "metadata": {},
     "output_type": "execute_result"
    }
   ],
   "source": [
    "np.sum(hate_rmse)/len(hate_rmse)"
   ]
  },
  {
   "cell_type": "code",
   "execution_count": 26,
   "id": "documentary-remainder",
   "metadata": {},
   "outputs": [
    {
     "data": {
      "image/png": "[encoded data removed]",
      "text/plain": [
       "<Figure size 432x288 with 1 Axes>"
      ]
     },
     "metadata": {
      "needs_background": "light"
     },
     "output_type": "display_data"
    }
   ],
   "source": [
    "import matplotlib.pyplot as plt\n",
    "plt.plot(non_hate_rmse,color = 'r')\n",
    "plt.plot(hate_rmse,color = 'b')\n",
    "\n",
    "plt.show()"
   ]
  },
  {
   "cell_type": "code",
   "execution_count": 27,
   "id": "objective-prospect",
   "metadata": {},
   "outputs": [],
   "source": [
    "def genall3(input_embeddings):\n",
    "    gnet = inseptionNetwork(input_embeddings)\n",
    "    resnet = resNet(input_embeddings)\n",
    "    lstm = LSTMnetwork(input_embeddings)\n",
    "    y = layers.concatenate([gnet,resnet,lstm])\n",
    "    return y"
   ]
  },
  {
   "cell_type": "code",
   "execution_count": 28,
   "id": "incredible-wilderness",
   "metadata": {},
   "outputs": [
    {
     "name": "stdout",
     "output_type": "stream",
     "text": [
      "Model: \"all3\"\n",
      "__________________________________________________________________________________________________\n",
      "Layer (type)                    Output Shape         Param #     Connected to                     \n",
      "==================================================================================================\n",
      "Input_Sentence (InputLayer)     [(None, None)]       0                                            \n",
      "__________________________________________________________________________________________________\n",
      "embedding_1 (Embedding)         (None, None, 64)     16384       Input_Sentence[0][0]             \n",
      "__________________________________________________________________________________________________\n",
      "conv1d_40 (Conv1D)              (None, None, 32)     6176        embedding_1[0][0]                \n",
      "__________________________________________________________________________________________________\n",
      "conv1d_20 (Conv1D)              (None, None, 8)      520         embedding_1[0][0]                \n",
      "__________________________________________________________________________________________________\n",
      "conv1d_21 (Conv1D)              (None, None, 16)     2064        embedding_1[0][0]                \n",
      "__________________________________________________________________________________________________\n",
      "conv1d_22 (Conv1D)              (None, None, 32)     6176        embedding_1[0][0]                \n",
      "__________________________________________________________________________________________________\n",
      "conv1d_23 (Conv1D)              (None, None, 64)     16448       embedding_1[0][0]                \n",
      "__________________________________________________________________________________________________\n",
      "conv1d_24 (Conv1D)              (None, None, 64)     20544       embedding_1[0][0]                \n",
      "__________________________________________________________________________________________________\n",
      "conv1d_41 (Conv1D)              (None, None, 64)     6208        conv1d_40[0][0]                  \n",
      "__________________________________________________________________________________________________\n",
      "concatenate_4 (Concatenate)     (None, None, 184)    0           conv1d_20[0][0]                  \n",
      "                                                                 conv1d_21[0][0]                  \n",
      "                                                                 conv1d_22[0][0]                  \n",
      "                                                                 conv1d_23[0][0]                  \n",
      "                                                                 conv1d_24[0][0]                  \n",
      "__________________________________________________________________________________________________\n",
      "max_pooling1d_2 (MaxPooling1D)  (None, None, 64)     0           conv1d_41[0][0]                  \n",
      "__________________________________________________________________________________________________\n",
      "conv1d_25 (Conv1D)              (None, None, 8)      1480        concatenate_4[0][0]              \n",
      "__________________________________________________________________________________________________\n",
      "conv1d_26 (Conv1D)              (None, None, 16)     5904        concatenate_4[0][0]              \n",
      "__________________________________________________________________________________________________\n",
      "conv1d_27 (Conv1D)              (None, None, 32)     17696       concatenate_4[0][0]              \n",
      "__________________________________________________________________________________________________\n",
      "conv1d_28 (Conv1D)              (None, None, 64)     47168       concatenate_4[0][0]              \n",
      "__________________________________________________________________________________________________\n",
      "conv1d_29 (Conv1D)              (None, None, 64)     58944       concatenate_4[0][0]              \n",
      "__________________________________________________________________________________________________\n",
      "conv1d_42 (Conv1D)              (None, None, 32)     6176        max_pooling1d_2[0][0]            \n",
      "__________________________________________________________________________________________________\n",
      "concatenate_5 (Concatenate)     (None, None, 184)    0           conv1d_25[0][0]                  \n",
      "                                                                 conv1d_26[0][0]                  \n",
      "                                                                 conv1d_27[0][0]                  \n",
      "                                                                 conv1d_28[0][0]                  \n",
      "                                                                 conv1d_29[0][0]                  \n",
      "__________________________________________________________________________________________________\n",
      "conv1d_43 (Conv1D)              (None, None, 64)     6208        conv1d_42[0][0]                  \n",
      "__________________________________________________________________________________________________\n",
      "max_pooling1d_1 (MaxPooling1D)  (None, None, 184)    0           concatenate_5[0][0]              \n",
      "__________________________________________________________________________________________________\n",
      "add (Add)                       (None, None, 64)     0           conv1d_43[0][0]                  \n",
      "                                                                 max_pooling1d_2[0][0]            \n",
      "__________________________________________________________________________________________________\n",
      "conv1d_30 (Conv1D)              (None, None, 8)      1480        max_pooling1d_1[0][0]            \n",
      "__________________________________________________________________________________________________\n",
      "conv1d_31 (Conv1D)              (None, None, 16)     5904        max_pooling1d_1[0][0]            \n",
      "__________________________________________________________________________________________________\n",
      "conv1d_32 (Conv1D)              (None, None, 32)     17696       max_pooling1d_1[0][0]            \n",
      "__________________________________________________________________________________________________\n",
      "conv1d_33 (Conv1D)              (None, None, 64)     47168       max_pooling1d_1[0][0]            \n",
      "__________________________________________________________________________________________________\n",
      "conv1d_34 (Conv1D)              (None, None, 64)     58944       max_pooling1d_1[0][0]            \n",
      "__________________________________________________________________________________________________\n",
      "conv1d_44 (Conv1D)              (None, None, 32)     6176        add[0][0]                        \n",
      "__________________________________________________________________________________________________\n",
      "concatenate_6 (Concatenate)     (None, None, 184)    0           conv1d_30[0][0]                  \n",
      "                                                                 conv1d_31[0][0]                  \n",
      "                                                                 conv1d_32[0][0]                  \n",
      "                                                                 conv1d_33[0][0]                  \n",
      "                                                                 conv1d_34[0][0]                  \n",
      "__________________________________________________________________________________________________\n",
      "conv1d_45 (Conv1D)              (None, None, 64)     6208        conv1d_44[0][0]                  \n",
      "__________________________________________________________________________________________________\n",
      "conv1d_35 (Conv1D)              (None, None, 8)      1480        concatenate_6[0][0]              \n",
      "__________________________________________________________________________________________________\n",
      "conv1d_36 (Conv1D)              (None, None, 16)     5904        concatenate_6[0][0]              \n",
      "__________________________________________________________________________________________________\n",
      "conv1d_37 (Conv1D)              (None, None, 32)     17696       concatenate_6[0][0]              \n",
      "__________________________________________________________________________________________________\n",
      "conv1d_38 (Conv1D)              (None, None, 64)     47168       concatenate_6[0][0]              \n",
      "__________________________________________________________________________________________________\n",
      "conv1d_39 (Conv1D)              (None, None, 64)     58944       concatenate_6[0][0]              \n",
      "__________________________________________________________________________________________________\n",
      "add_1 (Add)                     (None, None, 64)     0           conv1d_45[0][0]                  \n",
      "                                                                 add[0][0]                        \n",
      "__________________________________________________________________________________________________\n",
      "bidirectional (Bidirectional)   (None, None, 512)    657408      embedding_1[0][0]                \n",
      "__________________________________________________________________________________________________\n",
      "concatenate_7 (Concatenate)     (None, None, 184)    0           conv1d_35[0][0]                  \n",
      "                                                                 conv1d_36[0][0]                  \n",
      "                                                                 conv1d_37[0][0]                  \n",
      "                                                                 conv1d_38[0][0]                  \n",
      "                                                                 conv1d_39[0][0]                  \n",
      "__________________________________________________________________________________________________\n",
      "conv1d_46 (Conv1D)              (None, None, 64)     12352       add_1[0][0]                      \n",
      "__________________________________________________________________________________________________\n",
      "bidirectional_1 (Bidirectional) (None, None, 128)    295424      bidirectional[0][0]              \n",
      "__________________________________________________________________________________________________\n",
      "global_max_pooling1d_1 (GlobalM (None, 184)          0           concatenate_7[0][0]              \n",
      "__________________________________________________________________________________________________\n",
      "global_max_pooling1d_2 (GlobalM (None, 64)           0           conv1d_46[0][0]                  \n",
      "__________________________________________________________________________________________________\n",
      "bidirectional_2 (Bidirectional) (None, 64)           41216       bidirectional_1[0][0]            \n",
      "__________________________________________________________________________________________________\n",
      "concatenate_8 (Concatenate)     (None, 312)          0           global_max_pooling1d_1[0][0]     \n",
      "                                                                 global_max_pooling1d_2[0][0]     \n",
      "                                                                 bidirectional_2[0][0]            \n",
      "__________________________________________________________________________________________________\n",
      "dense_3 (Dense)                 (None, 64)           20032       concatenate_8[0][0]              \n",
      "__________________________________________________________________________________________________\n",
      "dense_4 (Dense)                 (None, 128)          8320        dense_3[0][0]                    \n",
      "__________________________________________________________________________________________________\n",
      "dense_5 (Dense)                 (None, 256)          33024       dense_4[0][0]                    \n",
      "==================================================================================================\n",
      "Total params: 1,560,640\n",
      "Trainable params: 1,560,640\n",
      "Non-trainable params: 0\n",
      "__________________________________________________________________________________________________\n"
     ]
    }
   ],
   "source": [
    "all3_model = generateModel(genall3,'all3')"
   ]
  },
  {
   "cell_type": "code",
   "execution_count": 29,
   "id": "metallic-branch",
   "metadata": {},
   "outputs": [],
   "source": [
    "def resNet(input_embedding):\n",
    "    x = layers.Conv1D(32, 3, activation=\"relu\")(input_embedding)\n",
    "    x = layers.Conv1D(64, 3, activation=\"relu\")(x)\n",
    "    block_1_output = layers.MaxPooling1D(3)(x)\n",
    "\n",
    "    x = layers.Conv1D(32, 3, activation=\"relu\", padding=\"same\")(block_1_output)\n",
    "    x = layers.Conv1D(64, 3, activation=\"relu\", padding=\"same\")(x)\n",
    "    block_2_output = layers.add([x, block_1_output])\n",
    "\n",
    "    x = layers.Conv1D(32, 3, activation=\"relu\", padding=\"same\")(block_2_output)\n",
    "    x = layers.Conv1D(64, 3, activation=\"relu\", padding=\"same\")(x)\n",
    "    block_3_output = layers.add([x, block_2_output])\n",
    "\n",
    "    x = layers.Conv1D(64, 3, activation=\"relu\")(block_3_output)\n",
    "    x = layers.GlobalMaxPooling1D()(x)\n",
    "    return x"
   ]
  },
  {
   "cell_type": "code",
   "execution_count": 30,
   "id": "backed-synthetic",
   "metadata": {
    "collapsed": true
   },
   "outputs": [
    {
     "name": "stdout",
     "output_type": "stream",
     "text": [
      "Model: \"mini-resnet\"\n",
      "__________________________________________________________________________________________________\n",
      "Layer (type)                    Output Shape         Param #     Connected to                     \n",
      "==================================================================================================\n",
      "Input_Sentence (InputLayer)     [(None, None)]       0                                            \n",
      "__________________________________________________________________________________________________\n",
      "embedding_2 (Embedding)         (None, None, 64)     16384       Input_Sentence[0][0]             \n",
      "__________________________________________________________________________________________________\n",
      "conv1d_47 (Conv1D)              (None, None, 32)     6176        embedding_2[0][0]                \n",
      "__________________________________________________________________________________________________\n",
      "conv1d_48 (Conv1D)              (None, None, 64)     6208        conv1d_47[0][0]                  \n",
      "__________________________________________________________________________________________________\n",
      "max_pooling1d_3 (MaxPooling1D)  (None, None, 64)     0           conv1d_48[0][0]                  \n",
      "__________________________________________________________________________________________________\n",
      "conv1d_49 (Conv1D)              (None, None, 32)     6176        max_pooling1d_3[0][0]            \n",
      "__________________________________________________________________________________________________\n",
      "conv1d_50 (Conv1D)              (None, None, 64)     6208        conv1d_49[0][0]                  \n",
      "__________________________________________________________________________________________________\n",
      "add_2 (Add)                     (None, None, 64)     0           conv1d_50[0][0]                  \n",
      "                                                                 max_pooling1d_3[0][0]            \n",
      "__________________________________________________________________________________________________\n",
      "conv1d_51 (Conv1D)              (None, None, 32)     6176        add_2[0][0]                      \n",
      "__________________________________________________________________________________________________\n",
      "conv1d_52 (Conv1D)              (None, None, 64)     6208        conv1d_51[0][0]                  \n",
      "__________________________________________________________________________________________________\n",
      "add_3 (Add)                     (None, None, 64)     0           conv1d_52[0][0]                  \n",
      "                                                                 add_2[0][0]                      \n",
      "__________________________________________________________________________________________________\n",
      "conv1d_53 (Conv1D)              (None, None, 64)     12352       add_3[0][0]                      \n",
      "__________________________________________________________________________________________________\n",
      "global_max_pooling1d_3 (GlobalM (None, 64)           0           conv1d_53[0][0]                  \n",
      "__________________________________________________________________________________________________\n",
      "dense_6 (Dense)                 (None, 64)           4160        global_max_pooling1d_3[0][0]     \n",
      "__________________________________________________________________________________________________\n",
      "dense_7 (Dense)                 (None, 128)          8320        dense_6[0][0]                    \n",
      "__________________________________________________________________________________________________\n",
      "dense_8 (Dense)                 (None, 256)          33024       dense_7[0][0]                    \n",
      "==================================================================================================\n",
      "Total params: 111,392\n",
      "Trainable params: 111,392\n",
      "Non-trainable params: 0\n",
      "__________________________________________________________________________________________________\n"
     ]
    }
   ],
   "source": [
    "mini_residual_model = generateModel(resNet,'mini-resnet')\n",
    "path = './models/mini-residual-model/checkpoint_epoch-20_rms-10.07.h5'"
   ]
  },
  {
   "cell_type": "code",
   "execution_count": 36,
   "id": "mature-snapshot",
   "metadata": {},
   "outputs": [],
   "source": [
    "hate_rmse =[]\n",
    "for i in range(len(hate_val)):\n",
    "    diff_sq = np.sum((pred_hate[i]-hate_val[i])**2)\n",
    "    hate_rmse.append((diff_sq**.5) / 256)\n",
    "non_hate_rmse =[]\n",
    "for i in range(len(non_hate_val)):\n",
    "    diff_sq = np.sum((pred_non_hate[i]-non_hate_train[i])**2)\n",
    "    non_hate_rmse.append((diff_sq**.5) / 256)"
   ]
  },
  {
   "cell_type": "code",
   "execution_count": 39,
   "id": "pharmaceutical-apartment",
   "metadata": {},
   "outputs": [
    {
     "data": {
      "text/plain": [
       "(0.7520294023140067, 0.7620343432980224)"
      ]
     },
     "execution_count": 39,
     "metadata": {},
     "output_type": "execute_result"
    }
   ],
   "source": [
    "np.sum(hate_rmse)/len(hate_rmse),np.sum(non_hate_rmse)/len(non_hate_rmse)"
   ]
  },
  {
   "cell_type": "code",
   "execution_count": 32,
   "id": "sweet-developer",
   "metadata": {},
   "outputs": [
    {
     "data": {
      "image/png": "[encoded data removed]",
      "text/plain": [
       "<Figure size 432x288 with 1 Axes>"
      ]
     },
     "metadata": {
      "needs_background": "light"
     },
     "output_type": "display_data"
    }
   ],
   "source": [
    "import matplotlib.pyplot as plt\n",
    "plt.plot(non_hate_rmse,color = 'r')\n",
    "plt.plot(hate_rmse,color = 'b')\n",
    "\n",
    "plt.show()"
   ]
  },
  {
   "cell_type": "code",
   "execution_count": 33,
   "id": "subsequent-uncertainty",
   "metadata": {},
   "outputs": [],
   "source": [
    "def genall3(input_embeddings):\n",
    "    gnet = inseptionNetwork(input_embeddings)\n",
    "    resnet = resNet(input_embeddings)\n",
    "    lstm = LSTMnetwork(input_embeddings)\n",
    "    y = layers.concatenate([gnet,resnet,lstm])\n",
    "    return y"
   ]
  },
  {
   "cell_type": "code",
   "execution_count": 34,
   "id": "occupational-excuse",
   "metadata": {},
   "outputs": [
    {
     "name": "stdout",
     "output_type": "stream",
     "text": [
      "Model: \"all3\"\n",
      "__________________________________________________________________________________________________\n",
      "Layer (type)                    Output Shape         Param #     Connected to                     \n",
      "==================================================================================================\n",
      "Input_Sentence (InputLayer)     [(None, None)]       0                                            \n",
      "__________________________________________________________________________________________________\n",
      "embedding_3 (Embedding)         (None, None, 64)     16384       Input_Sentence[0][0]             \n",
      "__________________________________________________________________________________________________\n",
      "conv1d_74 (Conv1D)              (None, None, 32)     6176        embedding_3[0][0]                \n",
      "__________________________________________________________________________________________________\n",
      "conv1d_54 (Conv1D)              (None, None, 8)      520         embedding_3[0][0]                \n",
      "__________________________________________________________________________________________________\n",
      "conv1d_55 (Conv1D)              (None, None, 16)     2064        embedding_3[0][0]                \n",
      "__________________________________________________________________________________________________\n",
      "conv1d_56 (Conv1D)              (None, None, 32)     6176        embedding_3[0][0]                \n",
      "__________________________________________________________________________________________________\n",
      "conv1d_57 (Conv1D)              (None, None, 64)     16448       embedding_3[0][0]                \n",
      "__________________________________________________________________________________________________\n",
      "conv1d_58 (Conv1D)              (None, None, 64)     20544       embedding_3[0][0]                \n",
      "__________________________________________________________________________________________________\n",
      "conv1d_75 (Conv1D)              (None, None, 64)     6208        conv1d_74[0][0]                  \n",
      "__________________________________________________________________________________________________\n",
      "concatenate_9 (Concatenate)     (None, None, 184)    0           conv1d_54[0][0]                  \n",
      "                                                                 conv1d_55[0][0]                  \n",
      "                                                                 conv1d_56[0][0]                  \n",
      "                                                                 conv1d_57[0][0]                  \n",
      "                                                                 conv1d_58[0][0]                  \n",
      "__________________________________________________________________________________________________\n",
      "max_pooling1d_5 (MaxPooling1D)  (None, None, 64)     0           conv1d_75[0][0]                  \n",
      "__________________________________________________________________________________________________\n",
      "conv1d_59 (Conv1D)              (None, None, 8)      1480        concatenate_9[0][0]              \n",
      "__________________________________________________________________________________________________\n",
      "conv1d_60 (Conv1D)              (None, None, 16)     5904        concatenate_9[0][0]              \n",
      "__________________________________________________________________________________________________\n",
      "conv1d_61 (Conv1D)              (None, None, 32)     17696       concatenate_9[0][0]              \n",
      "__________________________________________________________________________________________________\n",
      "conv1d_62 (Conv1D)              (None, None, 64)     47168       concatenate_9[0][0]              \n",
      "__________________________________________________________________________________________________\n",
      "conv1d_63 (Conv1D)              (None, None, 64)     58944       concatenate_9[0][0]              \n",
      "__________________________________________________________________________________________________\n",
      "conv1d_76 (Conv1D)              (None, None, 32)     6176        max_pooling1d_5[0][0]            \n",
      "__________________________________________________________________________________________________\n",
      "concatenate_10 (Concatenate)    (None, None, 184)    0           conv1d_59[0][0]                  \n",
      "                                                                 conv1d_60[0][0]                  \n",
      "                                                                 conv1d_61[0][0]                  \n",
      "                                                                 conv1d_62[0][0]                  \n",
      "                                                                 conv1d_63[0][0]                  \n",
      "__________________________________________________________________________________________________\n",
      "conv1d_77 (Conv1D)              (None, None, 64)     6208        conv1d_76[0][0]                  \n",
      "__________________________________________________________________________________________________\n",
      "max_pooling1d_4 (MaxPooling1D)  (None, None, 184)    0           concatenate_10[0][0]             \n",
      "__________________________________________________________________________________________________\n",
      "add_4 (Add)                     (None, None, 64)     0           conv1d_77[0][0]                  \n",
      "                                                                 max_pooling1d_5[0][0]            \n",
      "__________________________________________________________________________________________________\n",
      "conv1d_64 (Conv1D)              (None, None, 8)      1480        max_pooling1d_4[0][0]            \n",
      "__________________________________________________________________________________________________\n",
      "conv1d_65 (Conv1D)              (None, None, 16)     5904        max_pooling1d_4[0][0]            \n",
      "__________________________________________________________________________________________________\n",
      "conv1d_66 (Conv1D)              (None, None, 32)     17696       max_pooling1d_4[0][0]            \n",
      "__________________________________________________________________________________________________\n",
      "conv1d_67 (Conv1D)              (None, None, 64)     47168       max_pooling1d_4[0][0]            \n",
      "__________________________________________________________________________________________________\n",
      "conv1d_68 (Conv1D)              (None, None, 64)     58944       max_pooling1d_4[0][0]            \n",
      "__________________________________________________________________________________________________\n",
      "conv1d_78 (Conv1D)              (None, None, 32)     6176        add_4[0][0]                      \n",
      "__________________________________________________________________________________________________\n",
      "concatenate_11 (Concatenate)    (None, None, 184)    0           conv1d_64[0][0]                  \n",
      "                                                                 conv1d_65[0][0]                  \n",
      "                                                                 conv1d_66[0][0]                  \n",
      "                                                                 conv1d_67[0][0]                  \n",
      "                                                                 conv1d_68[0][0]                  \n",
      "__________________________________________________________________________________________________\n",
      "conv1d_79 (Conv1D)              (None, None, 64)     6208        conv1d_78[0][0]                  \n",
      "__________________________________________________________________________________________________\n",
      "conv1d_69 (Conv1D)              (None, None, 8)      1480        concatenate_11[0][0]             \n",
      "__________________________________________________________________________________________________\n",
      "conv1d_70 (Conv1D)              (None, None, 16)     5904        concatenate_11[0][0]             \n",
      "__________________________________________________________________________________________________\n",
      "conv1d_71 (Conv1D)              (None, None, 32)     17696       concatenate_11[0][0]             \n",
      "__________________________________________________________________________________________________\n",
      "conv1d_72 (Conv1D)              (None, None, 64)     47168       concatenate_11[0][0]             \n",
      "__________________________________________________________________________________________________\n",
      "conv1d_73 (Conv1D)              (None, None, 64)     58944       concatenate_11[0][0]             \n",
      "__________________________________________________________________________________________________\n",
      "add_5 (Add)                     (None, None, 64)     0           conv1d_79[0][0]                  \n",
      "                                                                 add_4[0][0]                      \n",
      "__________________________________________________________________________________________________\n",
      "bidirectional_3 (Bidirectional) (None, None, 512)    657408      embedding_3[0][0]                \n",
      "__________________________________________________________________________________________________\n",
      "concatenate_12 (Concatenate)    (None, None, 184)    0           conv1d_69[0][0]                  \n",
      "                                                                 conv1d_70[0][0]                  \n",
      "                                                                 conv1d_71[0][0]                  \n",
      "                                                                 conv1d_72[0][0]                  \n",
      "                                                                 conv1d_73[0][0]                  \n",
      "__________________________________________________________________________________________________\n",
      "conv1d_80 (Conv1D)              (None, None, 64)     12352       add_5[0][0]                      \n",
      "__________________________________________________________________________________________________\n",
      "bidirectional_4 (Bidirectional) (None, None, 128)    295424      bidirectional_3[0][0]            \n",
      "__________________________________________________________________________________________________\n",
      "global_max_pooling1d_4 (GlobalM (None, 184)          0           concatenate_12[0][0]             \n",
      "__________________________________________________________________________________________________\n",
      "global_max_pooling1d_5 (GlobalM (None, 64)           0           conv1d_80[0][0]                  \n",
      "__________________________________________________________________________________________________\n",
      "bidirectional_5 (Bidirectional) (None, 64)           41216       bidirectional_4[0][0]            \n",
      "__________________________________________________________________________________________________\n",
      "concatenate_13 (Concatenate)    (None, 312)          0           global_max_pooling1d_4[0][0]     \n",
      "                                                                 global_max_pooling1d_5[0][0]     \n",
      "                                                                 bidirectional_5[0][0]            \n",
      "__________________________________________________________________________________________________\n",
      "dense_9 (Dense)                 (None, 64)           20032       concatenate_13[0][0]             \n",
      "__________________________________________________________________________________________________\n",
      "dense_10 (Dense)                (None, 128)          8320        dense_9[0][0]                    \n",
      "__________________________________________________________________________________________________\n",
      "dense_11 (Dense)                (None, 256)          33024       dense_10[0][0]                   \n",
      "==================================================================================================\n",
      "Total params: 1,560,640\n",
      "Trainable params: 1,560,640\n",
      "Non-trainable params: 0\n",
      "__________________________________________________________________________________________________\n"
     ]
    }
   ],
   "source": [
    "all3_model = generateModel(genall3,'all3')\n"
   ]
  },
  {
   "cell_type": "code",
   "execution_count": 40,
   "id": "little-legislation",
   "metadata": {},
   "outputs": [],
   "source": [
    "path = './models/all3/checkpoint_epoch-20_rms-12.17.h5' \n",
    "pred_non_hate,pred_hate = prediction(all3_model ,path)"
   ]
  },
  {
   "cell_type": "code",
   "execution_count": 43,
   "id": "liquid-industry",
   "metadata": {},
   "outputs": [],
   "source": [
    "hate_rmse =[]\n",
    "for i in range(len(non_hate_val)):\n",
    "    diff_sq = np.sum((pred_hate[i]-hate_val[i])**2)\n",
    "    hate_rmse.append((diff_sq**.5) / 256)\n",
    "non_hate_rmse =[]\n",
    "for i in range(len(non_hate_val)):\n",
    "    diff_sq = np.sum((pred_non_hate[i]-non_hate_train[i])**2)\n",
    "    non_hate_rmse.append((diff_sq**.5) / 256)"
   ]
  },
  {
   "cell_type": "code",
   "execution_count": 46,
   "id": "julian-socket",
   "metadata": {},
   "outputs": [
    {
     "data": {
      "text/plain": [
       "(0.5429840750770913, 0.544267761868716)"
      ]
     },
     "execution_count": 46,
     "metadata": {},
     "output_type": "execute_result"
    }
   ],
   "source": [
    "np.sum(hate_rmse)/len(hate_rmse),np.sum(non_hate_rmse)/len(non_hate_rmse)"
   ]
  },
  {
   "cell_type": "code",
   "execution_count": 50,
   "id": "fewer-witness",
   "metadata": {},
   "outputs": [
    {
     "data": {
      "image/png": "[encoded data removed]",
      "text/plain": [
       "<Figure size 432x288 with 1 Axes>"
      ]
     },
     "metadata": {
      "needs_background": "light"
     },
     "output_type": "display_data"
    }
   ],
   "source": [
    "import matplotlib.pyplot as plt\n",
    "plt.scatter(non_hate_rmse,[i for i in range(len(non_hate_rmse))],color = 'r')\n",
    "plt.scatter(hate_rmse,[i for i in range(len(hate_rmse))],color = 'b')\n",
    "plt.show()"
   ]
  },
  {
   "cell_type": "code",
   "execution_count": 45,
   "id": "printable-relevance",
   "metadata": {},
   "outputs": [
    {
     "name": "stdout",
     "output_type": "stream",
     "text": [
      "[[  0.         0.         0.         0.         0.         0.\n",
      "    0.         0.         0.         0.         0.         0.\n",
      "    0.         0.         0.         0.         0.         0.\n",
      "    0.         0.         0.         0.         0.         0.\n",
      "    0.         0.         0.         0.         0.         0.\n",
      "    0.         0.         0.         0.         0.         0.\n",
      "    0.         0.         0.         0.         0.         0.\n",
      "    0.         0.         0.         0.         0.         0.\n",
      "    0.         0.         0.         0.         0.         0.\n",
      "    0.         0.         0.         0.         0.         0.\n",
      "    0.         0.         0.         0.         0.         0.\n",
      "    0.         0.         0.         0.         0.         0.\n",
      "    0.         0.         0.         0.         0.         0.\n",
      "    0.         0.         0.         0.         0.         0.\n",
      "    0.         0.         0.         0.         0.         0.\n",
      "    0.         0.         0.         0.         0.         0.\n",
      "    0.         0.         0.         0.         0.         0.\n",
      "    0.         0.         0.         0.         0.         0.\n",
      "    0.         0.         0.         0.         0.         0.\n",
      "    0.         0.         0.         0.         0.         0.\n",
      "    0.         0.         0.         0.         0.         0.\n",
      "    0.         0.         0.         0.         0.         0.\n",
      "    0.         0.         0.         0.         0.         0.\n",
      "    0.         0.         0.         0.         0.         0.\n",
      "    0.         0.         0.         0.         0.         0.\n",
      "    0.         0.         0.         0.         0.         0.\n",
      "    0.         0.         0.         0.         0.         0.\n",
      "    0.         0.         0.         0.         0.         0.\n",
      "    0.         0.         0.         0.         0.         0.\n",
      "    0.         0.         0.         0.         0.         0.\n",
      "    0.         0.         0.         0.         0.         0.\n",
      "    0.         0.         0.         0.         0.         0.\n",
      "    0.         0.         0.         0.         0.         0.\n",
      "    0.         0.         0.         0.         0.         0.\n",
      "    0.         0.         0.         0.         0.         0.\n",
      "    0.         0.         0.         0.         0.         0.\n",
      "    0.         0.         0.         0.         0.         0.\n",
      "    0.         0.         0.         0.         0.         0.\n",
      "    0.         0.         0.         0.         0.         0.\n",
      "    0.         0.         0.         0.         0.         0.\n",
      "    0.         0.         0.         0.         0.         0.\n",
      "    0.         0.         0.         0.         0.         0.\n",
      "    0.         0.        55.310223 111.05596 ]]\n"
     ]
    }
   ],
   "source": [
    "sen='bhosdike chup'\n",
    "sen=one_hot(sen ,vocab_size)\n",
    "sen=pad_sequences([sen],padding='pre',maxlen=256)\n",
    "# hate['one_hot'] = hate.apply(lambda row:one_hot(row.text  ,vocab_size) , axis = 1)\n",
    "# non_hate['one_hot'] = non_hate.apply(lambda row:one_hot(row.text  ,vocab_size) , axis = 1)\n",
    "# hate['one_hot']=list(pad_sequences(hate['one_hot'],padding='pre',maxlen=sent_length))\n",
    "# non_hate['one_hot']=list(pad_sequences(non_hate['one_hot'],padding='pre',maxlen=sent_length))\n",
    "sent=my_func(sen)\n",
    "sent=all3_model.predict(sent)\n",
    "print(sent)"
   ]
  },
  {
   "cell_type": "code",
   "execution_count": 51,
   "id": "understanding-sharing",
   "metadata": {},
   "outputs": [
    {
     "data": {
      "text/plain": [
       "0.14866395579866776"
      ]
     },
     "execution_count": 51,
     "metadata": {},
     "output_type": "execute_result"
    }
   ],
   "source": [
    "np.sum((sen[0]-sent[0])**2)/256"
   ]
  }
 ],
 "metadata": {
  "kernelspec": {
   "display_name": "Python 3",
   "language": "python",
   "name": "python3"
  },
  "language_info": {
   "codemirror_mode": {
    "name": "ipython",
    "version": 3
   },
   "file_extension": ".py",
   "mimetype": "text/x-python",
   "name": "python",
   "nbconvert_exporter": "python",
   "pygments_lexer": "ipython3",
   "version": "3.8.5"
  }
 },
 "nbformat": 4,
 "nbformat_minor": 5
}
